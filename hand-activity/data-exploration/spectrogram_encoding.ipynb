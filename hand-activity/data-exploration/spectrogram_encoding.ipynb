{
 "cells": [
  {
   "cell_type": "code",
   "execution_count": 17,
   "metadata": {
    "collapsed": true
   },
   "outputs": [
    {
     "name": "stdout",
     "output_type": "stream",
     "text": [
      "Showing spectrograms for:  Brushing Hair\n",
      "Old encoding:\n",
      "Fixed encoding:\n"
     ]
    },
    {
     "data": {
      "text/plain": "<PIL.Image.Image image mode=L size=48x256 at 0x7FB92DE73730>",
      "image/png": "[encoded data removed]"
     },
     "metadata": {},
     "output_type": "display_data"
    },
    {
     "data": {
      "text/plain": "<PIL.Image.Image image mode=L size=48x256 at 0x7FB92E368910>",
      "image/png": "[encoded data removed]"
     },
     "metadata": {},
     "output_type": "display_data"
    }
   ],
   "source": [
    "import numpy as np\n",
    "from PIL import Image\n",
    "\n",
    "def load_data():\n",
    "    data_path = '/mnt/data/hand-activity-data/'\n",
    "    user1_x = np.load(data_path + 'users/features/U1_features_X.npy')\n",
    "    user1_labels = np.load(data_path + 'users/features/U1_features_labels.npy')\n",
    "    return user1_x, user1_labels\n",
    "\n",
    "\n",
    "def change_encoding(spectrogram):\n",
    "    spectrogram = original_spectrogram.flatten()\n",
    "    spectrogram = np.reshape(spectrogram, (48,256)).swapaxes(0,1)\n",
    "    return spectrogram\n",
    "\n",
    "\n",
    "create_grayscale_im = np.vectorize(lambda x: (x / max * 255))\n",
    "\n",
    "testsample = 100\n",
    "testaxis = 0\n",
    "\n",
    "x, labels = load_data()\n",
    "\n",
    "print('Showing spectrograms for: ', labels[testsample])\n",
    "\n",
    "original_spectrogram = x[testsample][testaxis]\n",
    "original_spectrogram = np.sqrt(original_spectrogram)\n",
    "max = np.max(original_spectrogram)\n",
    "changed_spectrogram = change_encoding(original_spectrogram)\n",
    "\n",
    "grayscale_im = create_grayscale_im(changed_spectrogram)\n",
    "grayscale_im = grayscale_im.astype(np.uint8)\n",
    "im = Image.fromarray(grayscale_im)\n",
    "\n",
    "orig_grayscale_im = create_grayscale_im(original_spectrogram)\n",
    "orig_grayscale_im = orig_grayscale_im.astype(np.uint8)\n",
    "orig_im = Image.fromarray(orig_grayscale_im)\n",
    "\n",
    "print('Old encoding:')\n",
    "display(orig_im)\n",
    "print('Fixed encoding:')\n",
    "display(im)"
   ]
  },
  {
   "cell_type": "code",
   "execution_count": null,
   "outputs": [],
   "source": [],
   "metadata": {
    "collapsed": false,
    "pycharm": {
     "name": "#%%\n"
    }
   }
  }
 ],
 "metadata": {
  "kernelspec": {
   "display_name": "Python 3",
   "language": "python",
   "name": "python3"
  },
  "language_info": {
   "codemirror_mode": {
    "name": "ipython",
    "version": 2
   },
   "file_extension": ".py",
   "mimetype": "text/x-python",
   "name": "python",
   "nbconvert_exporter": "python",
   "pygments_lexer": "ipython2",
   "version": "2.7.6"
  }
 },
 "nbformat": 4,
 "nbformat_minor": 0
}