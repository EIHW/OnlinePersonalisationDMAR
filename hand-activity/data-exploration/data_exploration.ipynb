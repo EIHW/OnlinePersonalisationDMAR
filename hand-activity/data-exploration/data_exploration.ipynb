{
 "cells": [
  {
   "cell_type": "markdown",
   "source": [
    "# Data Exploration of hand-activities dataset by Laput and Harrison\n",
    "The research paper describes the data collection process as follows:\n",
    "\n",
    ">We recruited 12 people from a public participant pool\n",
    "(9 female, mean age 26.6), who were compensated $20 for\n",
    "the 90-minute study. Participants were asked to wear our\n",
    "smartwatch on their dominant arm. Once comfortable, the\n",
    "“obstacle course” began. Each “lap” of the course consisted\n",
    "of visiting four stations with physical activities that incorporated the 25 hand activities (random order). Participants\n",
    "performed each hand activity for at least 15 seconds, and\n",
    "they were free to perform them however they saw fit, capturing natural user variation.\n",
    ">\n",
    ">In total, participants completed four laps of our course,\n",
    "with three-minute breaks in between. Tis ensured temporal separation between data collection rounds. Additionally, in between laps three and four, participants were asked\n",
    "to remove and then re-wear the smartwatch, again to capture variation and to mitigate overfiting (common in worn\n",
    "sensing systems). A trained observer labeled data using a\n",
    "laptop interface immediately afer each hand activity was\n",
    "performed. This process yielded 2500 labeled instances per\n",
    "session, per user, resulting in a total of 120K instances.\n",
    "\n",
    "Laput, G. and Harrison, C., 2019, May. Sensing fine-grained hand activity with smartwatches. In Proceedings of the 2019 CHI Conference on Human Factors in Computing Systems (pp. 1-13).\n"
   ],
   "metadata": {
    "collapsed": false,
    "pycharm": {
     "name": "#%% md\n"
    }
   }
  },
  {
   "cell_type": "markdown",
   "source": [
    "## Structure and size\n",
    "The dataset is quite extensive. The experiments have been done with **12** users over **25** different hand activities.\n",
    "\n",
    "Each user has performed 4 rounds in the obstacle course, rounds 1-3 are done in a similar way. For round 4 each user\n",
    "took his smartwatch off his hand and wore it again.\n",
    "\n",
    "The data is structured in two ways:\n",
    "* Per round\n",
    "* Per user\n",
    "\n",
    "**The raw data is not available! Only the already preprocessed spectrogram.**"
   ],
   "metadata": {
    "collapsed": false
   }
  },
  {
   "cell_type": "markdown",
   "source": [
    "## Load data\n",
    "The data is available as npy array files, these can be imported in the following way:"
   ],
   "metadata": {
    "collapsed": false,
    "pycharm": {
     "name": "#%% md\n"
    }
   }
  },
  {
   "cell_type": "code",
   "execution_count": 1,
   "metadata": {
    "collapsed": true
   },
   "outputs": [
    {
     "name": "stdout",
     "output_type": "stream",
     "text": [
      "(31174, 3, 256, 48)\n",
      "(31174,)\n",
      "(31174,)\n",
      "[0 0 0 ... 0 0 0]\n",
      "['Brushing Hair' 'Brushing Hair' 'Brushing Hair' ... 'Brushing Hair'\n",
      " 'Brushing Hair' 'Brushing Hair']\n"
     ]
    }
   ],
   "source": [
    "import numpy as np\n",
    "\n",
    "data_path = '/mnt/data/hand-activity-data/'\n",
    "round1_x = np.load(data_path + 'rounds/round1_features_X.npy')\n",
    "round1_y = np.load(data_path + 'rounds/round1_features_Y.npy')\n",
    "round1_labels = np.load(data_path + 'rounds/round1_features_labels.npy')\n",
    "\n",
    "print(round1_x.shape)\n",
    "print(round1_y.shape)\n",
    "print(round1_labels.shape)\n",
    "print(round1_y)\n",
    "print(round1_labels)"
   ]
  },
  {
   "cell_type": "markdown",
   "source": [
    "As can be seen for each round or user there are three files:\n",
    "* `features_X`: the spectrograms\n",
    "* `features_Y`: the classes [0-24]\n",
    "* `features_labels`: the classes, but written as labels"
   ],
   "metadata": {
    "collapsed": false,
    "pycharm": {
     "name": "#%% md\n"
    }
   }
  },
  {
   "cell_type": "markdown",
   "source": [
    "## Class distribution\n",
    "The samples are quite equally distributed over the different classes. Per round we have around 1200 samples per class.\n",
    "Which are around the 2500 samples per user per round as described in the paper.\n"
   ],
   "metadata": {
    "collapsed": false,
    "pycharm": {
     "name": "#%% md\n"
    }
   }
  },
  {
   "cell_type": "code",
   "execution_count": 2,
   "outputs": [
    {
     "data": {
      "text/plain": "<Figure size 432x288 with 1 Axes>",
      "image/png": "[encoded data removed]"
     },
     "metadata": {
      "needs_background": "light"
     },
     "output_type": "display_data"
    }
   ],
   "source": [
    "import matplotlib.pyplot as plt\n",
    "plt.hist(round1_y, bins=25)\n",
    "plt.show()\n"
   ],
   "metadata": {
    "collapsed": false,
    "pycharm": {
     "name": "#%%\n"
    }
   }
  },
  {
   "cell_type": "markdown",
   "source": [
    "Also the distribution of samples over the different rounds is very similar:"
   ],
   "metadata": {
    "collapsed": false,
    "pycharm": {
     "name": "#%% md\n"
    }
   }
  },
  {
   "cell_type": "code",
   "source": [
    "round1_y = np.load(data_path + 'rounds/round1_features_Y.npy')\n",
    "round2_y = np.load(data_path + 'rounds/round2_features_Y.npy')\n",
    "round3_y = np.load(data_path + 'rounds/round3_features_Y.npy')\n",
    "round4_y = np.load(data_path + 'rounds/round4_features_Y.npy')\n",
    "\n",
    "print('samples in Round 1: {}'.format(round1_y.shape))\n",
    "print('samples in Round 2: {}'.format(round2_y.shape))\n",
    "print('samples in Round 3: {}'.format(round3_y.shape))\n",
    "print('samples in Round 4: {}'.format(round4_y.shape))\n"
   ],
   "metadata": {
    "collapsed": false,
    "pycharm": {
     "name": "#%%\n"
    }
   },
   "execution_count": 3,
   "outputs": [
    {
     "name": "stdout",
     "output_type": "stream",
     "text": [
      "samples in Round 1: (31174,)\n",
      "samples in Round 2: (31175,)\n",
      "samples in Round 3: (31087,)\n",
      "samples in Round 4: (31203,)\n"
     ]
    }
   ]
  },
  {
   "cell_type": "markdown",
   "source": [
    "## Examples of a spectrogram\n",
    "To visualize an example of one of the spectrograms"
   ],
   "metadata": {
    "collapsed": false,
    "pycharm": {
     "name": "#%% md\n"
    }
   }
  },
  {
   "cell_type": "code",
   "execution_count": 7,
   "outputs": [
    {
     "name": "stdout",
     "output_type": "stream",
     "text": [
      "Showing spectrogram for:  Brushing Teeth\n"
     ]
    },
    {
     "data": {
      "text/plain": "<PIL.Image.Image image mode=L size=48x256 at 0x7FA26C492FA0>",
      "image/png": "[encoded data removed]"
     },
     "metadata": {},
     "output_type": "display_data"
    }
   ],
   "source": [
    "import numpy as np\n",
    "from PIL import Image\n",
    "\n",
    "testsample = 300\n",
    "testaxis = 1\n",
    "\n",
    "data_path = '/mnt/data/hand-activity-data/'\n",
    "user1_x = np.load(data_path + 'users/features/U1_features_X.npy')\n",
    "user1_labels = np.load(data_path + 'users/features/U1_features_labels.npy')\n",
    "\n",
    "print('Showing spectrogram for: ', user1_labels[testsample])\n",
    "\n",
    "example_spectrogram = user1_x[testsample][testaxis]\n",
    "example_spectrogram = example_spectrogram.flatten()\n",
    "example_spectrogram = np.reshape(example_spectrogram, (48,256)).swapaxes(0,1)\n",
    "\n",
    "max = np.max(example_spectrogram)\n",
    "\n",
    "create_grayscale_im = np.vectorize(lambda x: (x / max * 255))\n",
    "grayscale_im = create_grayscale_im(example_spectrogram)\n",
    "grayscale_im = grayscale_im.astype(np.uint8)\n",
    "\n",
    "im = Image.fromarray(grayscale_im)\n",
    "display(im)"
   ],
   "metadata": {
    "collapsed": false,
    "pycharm": {
     "name": "#%%\n"
    }
   }
  },
  {
   "cell_type": "markdown",
   "source": [
    "## Wrong coding of the data!!\n",
    "As can be seen in the code above some mistake has been made when saving/creating the spectrograms. While the structure\n",
    "of the data is right 256x48 I assume that at some point somebody flattened the input and put them back into the wrong\n",
    "direction.\n",
    "\n",
    "So far it is unclear to me if the models were also trained with the skewed input or not, but considering the rather\n",
    "good results I would assume that that is not the case. It definitely is something to keep in mind though when we train\n",
    "on this data."
   ],
   "metadata": {
    "collapsed": false,
    "pycharm": {
     "name": "#%% md\n"
    }
   }
  }
 ],
 "metadata": {
  "kernelspec": {
   "display_name": "Python 3",
   "language": "python",
   "name": "python3"
  },
  "language_info": {
   "codemirror_mode": {
    "name": "ipython",
    "version": 2
   },
   "file_extension": ".py",
   "mimetype": "text/x-python",
   "name": "python",
   "nbconvert_exporter": "python",
   "pygments_lexer": "ipython2",
   "version": "2.7.6"
  }
 },
 "nbformat": 4,
 "nbformat_minor": 0
}